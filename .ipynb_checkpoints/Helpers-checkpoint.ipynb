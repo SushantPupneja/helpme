{
 "cells": [
  {
   "cell_type": "markdown",
   "metadata": {},
   "source": [
    "# Pandas"
   ]
  },
  {
   "cell_type": "code",
   "execution_count": null,
   "metadata": {},
   "outputs": [],
   "source": []
  },
  {
   "cell_type": "markdown",
   "metadata": {},
   "source": [
    "# Numpy"
   ]
  },
  {
   "cell_type": "code",
   "execution_count": null,
   "metadata": {},
   "outputs": [],
   "source": []
  },
  {
   "cell_type": "markdown",
   "metadata": {},
   "source": [
    "# Linux"
   ]
  },
  {
   "cell_type": "code",
   "execution_count": null,
   "metadata": {},
   "outputs": [],
   "source": [
    "## run jupyter notebook in virtualenv\n",
    "\n",
    "# pip install jupyter\n",
    "# pip install ipykernel ## to add kernels from virtualenv to root env\n",
    "# run below cmd:\n",
    "# ipython kernel install --user --name=projectname\n",
    "\n"
   ]
  },
  {
   "cell_type": "markdown",
   "metadata": {},
   "source": [
    "# Python "
   ]
  },
  {
   "cell_type": "code",
   "execution_count": null,
   "metadata": {},
   "outputs": [],
   "source": []
  },
  {
   "cell_type": "markdown",
   "metadata": {},
   "source": [
    "# Docker"
   ]
  },
  {
   "cell_type": "code",
   "execution_count": null,
   "metadata": {},
   "outputs": [],
   "source": [
    "## create image from Dockerfile\n",
    "# docker build -t imagename [path to dockerfile]\n",
    "\n",
    "## run image\n",
    "# docker run -p 8000:80 imagename\n",
    "\n",
    "## push image to docker hub\n",
    "\n",
    "# first tag the image with docker tag\n",
    "# docker tag imagename username/repositry:tag\n",
    "\n",
    "# then push the image in docker hub\n",
    "# docker push username/repositry:tag\n",
    "\n",
    "## other useful docker commands\n",
    "\n",
    "# docker build -t friendlyhello .  # Create image using this directory's Dockerfile\n",
    "# docker run -p 4000:80 friendlyhello  # Run \"friendlyname\" mapping port 4000 to 80\n",
    "# docker run -d -p 4000:80 friendlyhello         # Same thing, but in detached mode\n",
    "# docker container ls                                # List all running containers\n",
    "# docker container ls -a             # List all containers, even those not running\n",
    "# docker container stop <hash>           # Gracefully stop the specified container\n",
    "# docker container kill <hash>         # Force shutdown of the specified container\n",
    "# docker container rm <hash>        # Remove specified container from this machine\n",
    "# docker container rm $(docker container ls -a -q)         # Remove all containers\n",
    "# docker image ls -a                             # List all images on this machine\n",
    "# docker image rm <image id>            # Remove specified image from this machine\n",
    "# docker image rm $(docker image ls -a -q)   # Remove all images from this machine\n",
    "# docker login             # Log in this CLI session using your Docker credentials\n",
    "# docker tag <image> username/repository:tag  # Tag <image> for upload to registry\n",
    "# docker push username/repository:tag            # Upload tagged image to registry\n",
    "# docker run username/repository:tag                   # Run image from a registry\n"
   ]
  }
 ],
 "metadata": {
  "kernelspec": {
   "display_name": "helpmekernel",
   "language": "python",
   "name": "helpmekernel"
  },
  "language_info": {
   "codemirror_mode": {
    "name": "ipython",
    "version": 2
   },
   "file_extension": ".py",
   "mimetype": "text/x-python",
   "name": "python",
   "nbconvert_exporter": "python",
   "pygments_lexer": "ipython2",
   "version": "2.7.12"
  }
 },
 "nbformat": 4,
 "nbformat_minor": 2
}
